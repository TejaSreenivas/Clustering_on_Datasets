{
  "nbformat": 4,
  "nbformat_minor": 0,
  "metadata": {
    "colab": {
      "name": "Hierarchical clustering.ipynb",
      "version": "0.3.2",
      "provenance": [],
      "collapsed_sections": []
    },
    "kernelspec": {
      "display_name": "Python 3",
      "language": "python",
      "name": "python3"
    }
  },
  "cells": [
    {
      "metadata": {
        "id": "A--s0TFxWLVz",
        "colab_type": "code",
        "outputId": "fc62e540-2f17-4a90-86fe-9be05a1f43b1",
        "colab": {
          "base_uri": "https://localhost:8080/",
          "height": 35
        }
      },
      "cell_type": "code",
      "source": [
        "from google.colab import drive\n",
        "import os\n",
        "import sys\n",
        "drive.mount('/content/drive')\n",
        "dep_path = os.getcwd()+'/drive/My Drive/datasets'\n",
        "sys.path.insert(0, \"/content/drive/My Drive/datasets/\")\n",
        "os.listdir(dep_path)\n",
        "fl = dict()"
      ],
      "execution_count": 0,
      "outputs": [
        {
          "output_type": "stream",
          "text": [
            "Drive already mounted at /content/drive; to attempt to forcibly remount, call drive.mount(\"/content/drive\", force_remount=True).\n"
          ],
          "name": "stdout"
        }
      ]
    },
    {
      "metadata": {
        "id": "TtyIbJA-Ryxt",
        "colab_type": "code",
        "colab": {}
      },
      "cell_type": "code",
      "source": [
        "import pandas as pd\n",
        "import numpy as np\n",
        "import os\n",
        "import matplotlib.pyplot as plt\n",
        "from numpy.random import random_sample\n",
        "from math import sqrt, log\n",
        "from sklearn.cluster import AgglomerativeClustering\n",
        "from sklearn.datasets import load_iris\n",
        "from sklearn.metrics import silhouette_score\n",
        "from sklearn.metrics import pairwise_distances\n",
        "from sklearn.metrics import calinski_harabaz_score\n"
      ],
      "execution_count": 0,
      "outputs": []
    },
    {
      "metadata": {
        "id": "-ClCrNlpRyxx",
        "colab_type": "code",
        "colab": {}
      },
      "cell_type": "code",
      "source": [
        ""
      ],
      "execution_count": 0,
      "outputs": []
    },
    {
      "metadata": {
        "id": "RwZshSqVRyx1",
        "colab_type": "text"
      },
      "cell_type": "markdown",
      "source": [
        "### DATA SETS "
      ]
    },
    {
      "metadata": {
        "id": "ga8_cY2EMWSA",
        "colab_type": "text"
      },
      "cell_type": "markdown",
      "source": [
        "####sound"
      ]
    },
    {
      "metadata": {
        "id": "W6ofwCmmMY_Z",
        "colab_type": "code",
        "colab": {}
      },
      "cell_type": "code",
      "source": [
        "load = np.load(dep_path+\"/clustering/mfcc_features.npy\").item()\n",
        "X = np.array(load['mfcc'],dtype = np.float32)\n",
        "Y = np.array(load['label'])\n",
        "num_classes = 41"
      ],
      "execution_count": 0,
      "outputs": []
    },
    {
      "metadata": {
        "id": "EgZsCpTcRyx3",
        "colab_type": "text"
      },
      "cell_type": "markdown",
      "source": [
        " #### iris dataset"
      ]
    },
    {
      "metadata": {
        "id": "z8eDDX2URyx3",
        "colab_type": "code",
        "colab": {}
      },
      "cell_type": "code",
      "source": [
        "X = load_iris().data\n",
        "Y = load_iris().target\n",
        "num_classes = 3"
      ],
      "execution_count": 0,
      "outputs": []
    },
    {
      "metadata": {
        "id": "nCt8Dd85Ryx5",
        "colab_type": "text"
      },
      "cell_type": "markdown",
      "source": [
        "#### yeast dataset"
      ]
    },
    {
      "metadata": {
        "id": "stG6NZxIRyx6",
        "colab_type": "code",
        "colab": {}
      },
      "cell_type": "code",
      "source": [
        "import csv\n",
        "with open(dep_path+'/clustering/yeast_csv.csv', 'r') as f:\n",
        "    yeast = list(csv.reader(f, delimiter=','))\n",
        "X = np.array(yeast)\n",
        "#labels\n",
        "Y = X[1:,-1]\n",
        "#features\n",
        "X = X[1:,:-2].astype(np.float32)\n",
        "num_classes = np.unique(np.array(yeast)[:,-1]).shape[0]-1\n",
        "print(num_classes)\n"
      ],
      "execution_count": 0,
      "outputs": []
    },
    {
      "metadata": {
        "id": "M90gbk5bRyyD",
        "colab_type": "text"
      },
      "cell_type": "markdown",
      "source": [
        "#### Glass dataset"
      ]
    },
    {
      "metadata": {
        "id": "0xYGxxCyRyyF",
        "colab_type": "code",
        "outputId": "9929ed47-da8a-4927-df8d-88fee199683a",
        "colab": {
          "base_uri": "https://localhost:8080/",
          "height": 35
        }
      },
      "cell_type": "code",
      "source": [
        "import csv\n",
        "with open(dep_path+'/clustering/glass.csv', 'r') as f:\n",
        "    yeast = list(csv.reader(f, delimiter=','))\n",
        "X = np.array(yeast)\n",
        "#labels\n",
        "Y = X[1:,-1]\n",
        "#features\n",
        "X = X[1:,:-1].astype(np.float32)\n",
        "num_classes = np.unique(np.array(yeast)[:,-1]).shape[0]\n",
        "print(num_classes)"
      ],
      "execution_count": 0,
      "outputs": [
        {
          "output_type": "stream",
          "text": [
            "7\n"
          ],
          "name": "stdout"
        }
      ]
    },
    {
      "metadata": {
        "id": "cy0i1V5p5SKd",
        "colab_type": "text"
      },
      "cell_type": "markdown",
      "source": [
        "####MNIST"
      ]
    },
    {
      "metadata": {
        "id": "XnepAD_05aSg",
        "colab_type": "code",
        "colab": {}
      },
      "cell_type": "code",
      "source": [
        "import csv\n",
        "import os\n",
        "import load_mnist\n",
        "_,Y,_,_ = load_mnist.load_mnist_dataset(dep_path+'/fashion')\n",
        "with open(dep_path+'/clustering/encodef_stack100.csv', 'r') as f:\n",
        "    yeast = list(csv.reader(f, delimiter=','))\n",
        "X = np.array(yeast)\n",
        "X = X.astype(np.float32)\n",
        "\n",
        "num_classes = 10\n",
        "print(num_classes)"
      ],
      "execution_count": 0,
      "outputs": []
    },
    {
      "metadata": {
        "id": "jooUt0it5hdY",
        "colab_type": "text"
      },
      "cell_type": "markdown",
      "source": [
        "####MNIST PCA"
      ]
    },
    {
      "metadata": {
        "id": "_QtLDOR45m9W",
        "colab_type": "code",
        "colab": {}
      },
      "cell_type": "code",
      "source": [
        "import load_mnist\n",
        "import os\n",
        "mnist = dict()\n",
        "mnist['train_x'],mnist['train_y'],mnist['test_x'],mnist['test_y'] = load_mnist.load_mnist_dataset(dep_path+'/mnist')\n",
        "X = mnist['train_x'].reshape(-1,28*28)\n",
        "from sklearn.decomposition import PCA\n",
        "pca = PCA(0.99, whiten=True)\n",
        "data = pca.fit_transform(X.astype(np.float32))\n",
        "X = data\n",
        "Y = mnist['train_y']\n",
        "print(X.shape)"
      ],
      "execution_count": 0,
      "outputs": []
    },
    {
      "metadata": {
        "id": "ciuThbI6RyyF",
        "colab_type": "text"
      },
      "cell_type": "markdown",
      "source": [
        "#### Max k range"
      ]
    },
    {
      "metadata": {
        "id": "ufaDKHykRyyG",
        "colab_type": "code",
        "colab": {}
      },
      "cell_type": "code",
      "source": [
        "kmax = max_k = 15"
      ],
      "execution_count": 0,
      "outputs": []
    },
    {
      "metadata": {
        "id": "XKqi3M04RyyJ",
        "colab_type": "text"
      },
      "cell_type": "markdown",
      "source": [
        "### preprocessing "
      ]
    },
    {
      "metadata": {
        "id": "wHFZdZyyRyyK",
        "colab_type": "code",
        "colab": {}
      },
      "cell_type": "code",
      "source": [
        "from sklearn import preprocessing\n",
        "min_max_scaler = preprocessing.MinMaxScaler()\n",
        "X = min_max_scaler.fit_transform(X)"
      ],
      "execution_count": 0,
      "outputs": []
    },
    {
      "metadata": {
        "id": "JW4jOk6ORyyO",
        "colab_type": "text"
      },
      "cell_type": "markdown",
      "source": [
        "### program "
      ]
    },
    {
      "metadata": {
        "id": "6xv2bLqmRyyP",
        "colab_type": "code",
        "colab": {}
      },
      "cell_type": "code",
      "source": [
        "def get_cluster_centers(l,x):\n",
        "    c = []\n",
        "    for i in np.unique(l):\n",
        "        index = np.argwhere(l==i).reshape(-1)\n",
        "        cls = np.take(x,index,axis=0)\n",
        "        #print(cls.shape)\n",
        "        c.append(cls.mean(axis=0).tolist())\n",
        "        #print(c[i])\n",
        "    return c\n",
        "\n",
        "def get_inertia(l,x):\n",
        "    sse = 0\n",
        "    c = np.array(get_cluster_centers(l,x))\n",
        "    c = c.reshape(c.shape[0],-1,c.shape[1])\n",
        "    for i in np.unique(l):\n",
        "        index = np.argwhere(l==i).reshape(-1)\n",
        "        cls = np.take(x,index,axis=0)\n",
        "        #print(cls.shape)\n",
        "        cls = ((cls-c)**2).sum(axis=2)\n",
        "        #print(cls.shape)\n",
        "        cls = cls.min(axis=0).sum()\n",
        "        #print(cls)\n",
        "        sse+=cls\n",
        "    return sse"
      ],
      "execution_count": 0,
      "outputs": []
    },
    {
      "metadata": {
        "id": "Dzx6YBIKRyyR",
        "colab_type": "text"
      },
      "cell_type": "markdown",
      "source": [
        "### Hierarchical using Elbow "
      ]
    },
    {
      "metadata": {
        "id": "CAA-nEDnyMy9",
        "colab_type": "code",
        "colab": {}
      },
      "cell_type": "code",
      "source": [
        "gmm = AgglomerativeClustering(n_clusters=1).fit(X)"
      ],
      "execution_count": 0,
      "outputs": []
    },
    {
      "metadata": {
        "id": "lD7v5lesRyyS",
        "colab_type": "code",
        "outputId": "eb6c1f33-9d42-4ba0-b011-33b55faad620",
        "colab": {
          "base_uri": "https://localhost:8080/",
          "height": 347
        }
      },
      "cell_type": "code",
      "source": [
        "\n",
        "gmm = AgglomerativeClustering(n_clusters=4).fit(X)\n",
        "labels = gmm.labels_\n",
        "plt.scatter(X[:, 0], X[:, 1], c=labels, s=40, cmap='viridis');\n",
        "z= get_cluster_centers(labels,X)\n"
      ],
      "execution_count": 0,
      "outputs": [
        {
          "output_type": "display_data",
          "data": {
            "image/png": "[encoded data removed]",
            "text/plain": [
              "<matplotlib.figure.Figure at 0x7fbb05452c50>"
            ]
          },
          "metadata": {
            "tags": []
          }
        }
      ]
    },
    {
      "metadata": {
        "scrolled": false,
        "id": "8z5IoDn7RyyV",
        "colab_type": "code",
        "outputId": "62708482-9276-4db8-b037-bdfcf8a467ca",
        "colab": {
          "base_uri": "https://localhost:8080/",
          "height": 621
        }
      },
      "cell_type": "code",
      "source": [
        "sse = {}\n",
        "for k in range(1, kmax+1):\n",
        "    print(\"for cluster K  : {}\".format(k))\n",
        "    km_act = AgglomerativeClustering(n_clusters=k)\n",
        "    km_act.fit(X)\n",
        "    label = km_act.labels_\n",
        "    #print(data[\"clusters\"])\n",
        "    sse[k] = get_inertia(label,X) # Inertia: Sum of distances of samples to their closest cluster center\n",
        "\n",
        "fl['sse'] = sse\n",
        "fl['sse_c'] =  get_inertia(Y,X)\n",
        "plt.figure()\n",
        "plt.plot(list(sse.keys()), list(sse.values()))\n",
        "plt.scatter( num_classes, fl['sse_c'],s=150, c='g')\n",
        "plt.xlabel(\"Number of cluster\")\n",
        "plt.ylabel(\"SSE\")\n",
        "plt.show()\n"
      ],
      "execution_count": 0,
      "outputs": [
        {
          "output_type": "stream",
          "text": [
            "for cluster K  : 1\n",
            "for cluster K  : 2\n",
            "for cluster K  : 3\n",
            "for cluster K  : 4\n",
            "for cluster K  : 5\n",
            "for cluster K  : 6\n",
            "for cluster K  : 7\n",
            "for cluster K  : 8\n",
            "for cluster K  : 9\n",
            "for cluster K  : 10\n",
            "for cluster K  : 11\n",
            "for cluster K  : 12\n",
            "for cluster K  : 13\n",
            "for cluster K  : 14\n",
            "for cluster K  : 15\n"
          ],
          "name": "stdout"
        },
        {
          "output_type": "display_data",
          "data": {
            "image/png": "[encoded data removed]",
            "text/plain": [
              "<matplotlib.figure.Figure at 0x7fbb02b87ef0>"
            ]
          },
          "metadata": {
            "tags": []
          }
        }
      ]
    },
    {
      "metadata": {
        "id": "nc7DUPJwRyyY",
        "colab_type": "text"
      },
      "cell_type": "markdown",
      "source": [
        "### using Silhouette scores"
      ]
    },
    {
      "metadata": {
        "id": "Wn-C4i7RRyyZ",
        "colab_type": "code",
        "outputId": "8651c669-b213-42e6-d799-37d42f31859c",
        "colab": {
          "base_uri": "https://localhost:8080/",
          "height": 604
        }
      },
      "cell_type": "code",
      "source": [
        "\n",
        "silhouette_coeff = {}\n",
        "\n",
        "for n_cluster in range(2, kmax+1):\n",
        "    km_act = AgglomerativeClustering(n_clusters=n_cluster)\n",
        "    km_act.fit(X)\n",
        "    label = km_act.labels_\n",
        "    sil_coeff = silhouette_score(X, label, metric='euclidean')\n",
        "    silhouette_coeff[n_cluster] = sil_coeff\n",
        "    print(\"For cluster : {}, The Silhouette Coefficient is {:.3}\".format(n_cluster, sil_coeff))\n",
        "\n",
        "fl['silh'] = silhouette_coeff\n",
        "fl['silh_c'] = silhouette_score(X, Y, metric='euclidean')\n",
        "plt.figure()\n",
        "plt.plot(list(silhouette_coeff.keys()), list(silhouette_coeff.values()))\n",
        "plt.scatter( num_classes, fl['silh_c'],s=150, c='g')\n",
        "plt.xlabel(\"Number of cluster\")\n",
        "plt.ylabel(\"Silhouette Coefficient\")\n",
        "plt.show()\n",
        "\n"
      ],
      "execution_count": 0,
      "outputs": [
        {
          "output_type": "stream",
          "text": [
            "For cluster : 2, The Silhouette Coefficient is 0.521\n",
            "For cluster : 3, The Silhouette Coefficient is 0.527\n",
            "For cluster : 4, The Silhouette Coefficient is 0.305\n",
            "For cluster : 5, The Silhouette Coefficient is 0.316\n",
            "For cluster : 6, The Silhouette Coefficient is 0.324\n",
            "For cluster : 7, The Silhouette Coefficient is 0.327\n",
            "For cluster : 8, The Silhouette Coefficient is 0.338\n",
            "For cluster : 9, The Silhouette Coefficient is 0.341\n",
            "For cluster : 10, The Silhouette Coefficient is 0.34\n",
            "For cluster : 11, The Silhouette Coefficient is 0.344\n",
            "For cluster : 12, The Silhouette Coefficient is 0.348\n",
            "For cluster : 13, The Silhouette Coefficient is 0.344\n",
            "For cluster : 14, The Silhouette Coefficient is 0.315\n",
            "For cluster : 15, The Silhouette Coefficient is 0.322\n"
          ],
          "name": "stdout"
        },
        {
          "output_type": "display_data",
          "data": {
            "image/png": "[encoded data removed]",
            "text/plain": [
              "<matplotlib.figure.Figure at 0x7fbb02b57b70>"
            ]
          },
          "metadata": {
            "tags": []
          }
        }
      ]
    },
    {
      "metadata": {
        "id": "VgsygFVYRyyc",
        "colab_type": "text"
      },
      "cell_type": "markdown",
      "source": [
        "### GAP statistics "
      ]
    },
    {
      "metadata": {
        "id": "cvZ1qiygRyyd",
        "colab_type": "code",
        "colab": {}
      },
      "cell_type": "code",
      "source": [
        "\n",
        "\n",
        "def get_rand_data(col):\n",
        "\n",
        "    rng = col.max() - col.min()\n",
        "\n",
        "    return pd.Series(random_sample(len(col))*rng + col.min())\n",
        "\n",
        "\n",
        "\n",
        "def iter_kmeans(df, n_clusters, num_iters=5):\n",
        "    rng =  range(1, num_iters + 1)\n",
        "    vals = pd.Series(index=rng)\n",
        "    for i in rng:\n",
        "      k = AgglomerativeClustering(n_clusters=n_clusters)\n",
        "      k.fit(df)\n",
        "      labels = k.labels_\n",
        "      #print (\"Ref k: {}\".format(k.get_params()['n_clusters']))\n",
        "      vals[i] = get_inertia(labels, np.array(df))\n",
        "    return vals\n",
        "\n",
        "\n",
        "\n",
        "def gap_statistic(df, max_k=10):\n",
        "    gaps = pd.Series(index = range(1, max_k + 1))\n",
        "    for k in range(1, max_k + 1):\n",
        "        km_act = AgglomerativeClustering(n_clusters=k)\n",
        "        km_act.fit(df)\n",
        "        labels = km_act.labels_\n",
        "        # get ref dataset\n",
        "        ref = df.apply(get_rand_data)\n",
        "        ref_inertia = iter_kmeans(ref, n_clusters=k).mean()\n",
        "        gap = log(abs(ref_inertia - get_inertia(labels,np.array(df))))\n",
        "        print(\"Ref: {} Act: {}  Gap: {}\".format( ref_inertia, get_inertia(labels,np.array(df)), gap))\n",
        "        gaps[k] = gap\n",
        "    return gaps"
      ],
      "execution_count": 0,
      "outputs": []
    },
    {
      "metadata": {
        "id": "vMdBnJBXRyye",
        "colab_type": "code",
        "outputId": "ae017f3f-ed5d-45fa-d139-77c7b58f8922",
        "colab": {
          "base_uri": "https://localhost:8080/",
          "height": 277
        }
      },
      "cell_type": "code",
      "source": [
        "# famous iris data set\n",
        "df = pd.DataFrame(X)\n",
        "gaps = gap_statistic(df,kmax)"
      ],
      "execution_count": 0,
      "outputs": [
        {
          "output_type": "stream",
          "text": [
            "Ref: 157.50146827574653 Act: 57.3642338528977  Gap: 4.6065415894128785\n",
            "Ref: 148.9483048656333 Act: 34.18318386628174  Gap: 4.742887613674129\n",
            "Ref: 137.42301396291188 Act: 28.760912910604446  Gap: 4.688243076959883\n",
            "Ref: 130.8488907271819 Act: 24.088992427125163  Gap: 4.670582371932429\n",
            "Ref: 122.13490123391928 Act: 21.444950068279418  Gap: 4.612046004930285\n",
            "Ref: 114.90141461431274 Act: 18.8305866584273  Gap: 4.5650857106408385\n",
            "Ref: 105.71311355744669 Act: 16.984830220803925  Gap: 4.485578703614477\n",
            "Ref: 105.59166163891898 Act: 15.36062026130148  Gap: 4.5023735073076185\n",
            "Ref: 101.09677030432003 Act: 14.2653879357843  Gap: 4.463968104348171\n",
            "Ref: 99.87933215856418 Act: 13.095067467810201  Gap: 4.463425322868085\n",
            "Ref: 96.82009959905386 Act: 11.960353453155633  Gap: 4.440999848323773\n",
            "Ref: 92.48546275969494 Act: 11.085699756152977  Gap: 4.399372361499858\n",
            "Ref: 86.32648845851136 Act: 10.222727878577038  Gap: 4.332097679940182\n",
            "Ref: 86.11342481319032 Act: 9.495951284776078  Gap: 4.338825164680482\n",
            "Ref: 80.91602097874028 Act: 8.853896455972716  Gap: 4.277528587577092\n"
          ],
          "name": "stdout"
        }
      ]
    },
    {
      "metadata": {
        "id": "2siUmdENRyyk",
        "colab_type": "code",
        "outputId": "dc7e95d6-1fb6-4ca8-9095-53dfafcefaa0",
        "colab": {
          "base_uri": "https://localhost:8080/",
          "height": 52
        }
      },
      "cell_type": "code",
      "source": [
        "gap = np.array(gaps)\n",
        "fl['gap'] = gap\n",
        "fl['gap_c'] = log( iter_kmeans(df.apply(get_rand_data), n_clusters=num_classes).mean() - get_inertia(Y,X))\n",
        "print(fl['gap_c'])\n",
        "gap.argmax()+1"
      ],
      "execution_count": 0,
      "outputs": [
        {
          "output_type": "stream",
          "text": [
            "4.373809823027498\n"
          ],
          "name": "stdout"
        },
        {
          "output_type": "execute_result",
          "data": {
            "text/plain": [
              "2"
            ]
          },
          "metadata": {
            "tags": []
          },
          "execution_count": 13
        }
      ]
    },
    {
      "metadata": {
        "id": "6xsEt6_yRyyn",
        "colab_type": "code",
        "outputId": "53a59523-cac0-4e60-c6ae-f70186447686",
        "colab": {
          "base_uri": "https://localhost:8080/",
          "height": 377
        }
      },
      "cell_type": "code",
      "source": [
        "plt.plot(range(1,kmax+1),gap, linewidth=3)\n",
        "plt.scatter(gap.argmax()+1, gap.max(), s=250, c='r')\n",
        "plt.scatter( num_classes, fl['gap_c'],s=150, c='g')\n",
        "plt.grid(True)\n",
        "plt.xlabel('Cluster Count')\n",
        "plt.ylabel('Gap Value')\n",
        "plt.title('Gap Values by Cluster Count')\n",
        "plt.show()"
      ],
      "execution_count": 0,
      "outputs": [
        {
          "output_type": "display_data",
          "data": {
            "image/png": "[encoded data removed]",
            "text/plain": [
              "<matplotlib.figure.Figure at 0x7fbb02b0d470>"
            ]
          },
          "metadata": {
            "tags": []
          }
        }
      ]
    },
    {
      "metadata": {
        "id": "RAbTSr4tRyyq",
        "colab_type": "text"
      },
      "cell_type": "markdown",
      "source": [
        "### 4.  Calinski-Harabaz Index "
      ]
    },
    {
      "metadata": {
        "id": "t_gGhJqxRyyq",
        "colab_type": "code",
        "colab": {}
      },
      "cell_type": "code",
      "source": [
        "\n",
        "CHI = pd.Series(index = range(2, max_k + 1))\n",
        "for k in range(2, max_k+1):\n",
        "    km_act = AgglomerativeClustering(n_clusters=k)\n",
        "    km_act.fit(X)\n",
        "    labels = km_act.labels_\n",
        "    #print(data[\"clusters\"])\n",
        "    CHI[k] = calinski_harabaz_score(X, labels) "
      ],
      "execution_count": 0,
      "outputs": []
    },
    {
      "metadata": {
        "id": "oDIJthKqRyyt",
        "colab_type": "code",
        "outputId": "5b0430c2-4bdf-49f3-ca4d-1c58b73d2268",
        "colab": {
          "base_uri": "https://localhost:8080/",
          "height": 377
        }
      },
      "cell_type": "code",
      "source": [
        "fl['chi'] = CHI\n",
        "fl['chi_c'] = calinski_harabaz_score(X, Y) \n",
        "plt.plot(CHI, linewidth=3)\n",
        "plt.scatter(CHI.values.argmax()+2, CHI.max(), s=250, c='r')\n",
        "plt.scatter( num_classes, fl['chi_c'],s=150, c='g')\n",
        "plt.grid(True)\n",
        "plt.xlabel('Cluster Count')\n",
        "plt.ylabel('calinski harabaz score')\n",
        "plt.title('calinski harabaz score by Cluster Count')\n",
        "plt.show()"
      ],
      "execution_count": 0,
      "outputs": [
        {
          "output_type": "display_data",
          "data": {
            "image/png": "[encoded data removed]",
            "text/plain": [
              "<matplotlib.figure.Figure at 0x7fbb02bc0828>"
            ]
          },
          "metadata": {
            "tags": []
          }
        }
      ]
    },
    {
      "metadata": {
        "id": "6i4aQ_RlOZII",
        "colab_type": "code",
        "outputId": "f0b8623c-f973-42ec-e423-9ad48042f787",
        "colab": {
          "base_uri": "https://localhost:8080/",
          "height": 35
        }
      },
      "cell_type": "code",
      "source": [
        "name = os.getcwd()+\"/drive/My Drive/outputs/\"+\"H_gl.npy\"\n",
        "np.save(name,fl)\n",
        "#saving file from colab\n",
        "\"\"\"from google.colab import files\n",
        "files.download(name)\"\"\"\n"
      ],
      "execution_count": 0,
      "outputs": [
        {
          "output_type": "execute_result",
          "data": {
            "text/plain": [
              "'from google.colab import files\\nfiles.download(name)'"
            ]
          },
          "metadata": {
            "tags": []
          },
          "execution_count": 17
        }
      ]
    }
  ]
}