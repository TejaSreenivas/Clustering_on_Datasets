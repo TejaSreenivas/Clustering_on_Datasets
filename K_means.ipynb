{
  "nbformat": 4,
  "nbformat_minor": 0,
  "metadata": {
    "colab": {
      "name": "K-means.ipynb",
      "version": "0.3.2",
      "provenance": [],
      "collapsed_sections": []
    },
    "kernelspec": {
      "display_name": "Python 3",
      "language": "python",
      "name": "python3"
    }
  },
  "cells": [
    {
      "metadata": {
        "id": "PNHUKb6WSOoV",
        "colab_type": "code",
        "outputId": "4331ef22-7e2b-4ec8-ddac-478140217843",
        "colab": {
          "base_uri": "https://localhost:8080/",
          "height": 208
        }
      },
      "cell_type": "code",
      "source": [
        "from google.colab import drive\n",
        "import os\n",
        "import sys\n",
        "drive.mount('/content/drive')\n",
        "dep_path = os.getcwd()+'/drive/My Drive/datasets'\n",
        "sys.path.insert(0, \"/content/drive/My Drive/datasets/\")\n",
        "os.listdir(dep_path)\n"
      ],
      "execution_count": 0,
      "outputs": [
        {
          "output_type": "stream",
          "text": [
            "Drive already mounted at /content/drive; to attempt to forcibly remount, call drive.mount(\"/content/drive\", force_remount=True).\n"
          ],
          "name": "stdout"
        },
        {
          "output_type": "execute_result",
          "data": {
            "text/plain": [
              "['cifar-10-batches-py',\n",
              " 'mnist',\n",
              " 'fashion',\n",
              " 'Digital_Music_5.json',\n",
              " 'News_Category_Dataset_v2.json',\n",
              " 'large_imbd',\n",
              " 'Consumer_Complaints.csv',\n",
              " 'clustering',\n",
              " 'load_mnist.py',\n",
              " '__pycache__']"
            ]
          },
          "metadata": {
            "tags": []
          },
          "execution_count": 51
        }
      ]
    },
    {
      "metadata": {
        "id": "ZrAOsQwtRztF",
        "colab_type": "code",
        "colab": {}
      },
      "cell_type": "code",
      "source": [
        "import pandas as pd\n",
        "from sklearn.datasets import load_iris\n",
        "from sklearn.cluster import KMeans\n",
        "import matplotlib.pyplot as plt\n",
        "from sklearn import metrics\n",
        "from sklearn.metrics import pairwise_distances\n",
        "from sklearn import datasets\n",
        "import numpy as np\n",
        "from sklearn.cluster import KMeans\n",
        "from sklearn.metrics import silhouette_score\n",
        "from sklearn.cluster import MiniBatchKMeans\n",
        "from numpy.random import random_sample\n",
        "from math import sqrt, log\n",
        "import glob"
      ],
      "execution_count": 0,
      "outputs": []
    },
    {
      "metadata": {
        "id": "P2B-yFFO-euj",
        "colab_type": "code",
        "colab": {}
      },
      "cell_type": "code",
      "source": [
        "fl = dict()"
      ],
      "execution_count": 0,
      "outputs": []
    },
    {
      "metadata": {
        "id": "Ha1dQoDlN51G",
        "colab_type": "text"
      },
      "cell_type": "markdown",
      "source": [
        "####Audio"
      ]
    },
    {
      "metadata": {
        "id": "-ENOT2RmW8L5",
        "colab_type": "code",
        "colab": {}
      },
      "cell_type": "code",
      "source": [
        "load = np.load(dep_path+\"/clustering/mfcc_features.npy\").item()\n",
        "X = np.array(load['mfcc'],dtype = np.float32)\n",
        "Y = np.array(load['label'])\n",
        "num_classes = 41"
      ],
      "execution_count": 0,
      "outputs": []
    },
    {
      "metadata": {
        "id": "uVXDtOUERztN",
        "colab_type": "text"
      },
      "cell_type": "markdown",
      "source": [
        "##### iris dataset"
      ]
    },
    {
      "metadata": {
        "id": "3MDVCaPgRztO",
        "colab_type": "code",
        "colab": {}
      },
      "cell_type": "code",
      "source": [
        "X = load_iris().data\n",
        "Y = load_iris().target\n",
        "num_classes = 3"
      ],
      "execution_count": 0,
      "outputs": []
    },
    {
      "metadata": {
        "id": "CvNDowzRRztP",
        "colab_type": "text"
      },
      "cell_type": "markdown",
      "source": [
        "##### Yeast dataset"
      ]
    },
    {
      "metadata": {
        "id": "4JKt1BdZRztR",
        "colab_type": "code",
        "colab": {}
      },
      "cell_type": "code",
      "source": [
        "import csv\n",
        "with open(dep_path+'/clustering/yeast_csv.csv', 'r') as f:\n",
        "    yeast = list(csv.reader(f, delimiter=','))\n",
        "X = np.array(yeast)\n",
        "#labels\n",
        "Y = X[1:,-1]\n",
        "#features\n",
        "X = X[1:,:-2].astype(np.float32)\n",
        "num_classes = np.unique(np.array(yeast)[:,-1]).shape[0]-1\n",
        "print(num_classes)\n"
      ],
      "execution_count": 0,
      "outputs": []
    },
    {
      "metadata": {
        "id": "dxq0ArFPRztZ",
        "colab_type": "text"
      },
      "cell_type": "markdown",
      "source": [
        "##### Glass dataset"
      ]
    },
    {
      "metadata": {
        "id": "RjsqhxDoRzta",
        "colab_type": "code",
        "outputId": "7f8584ba-f8af-4db0-8257-1114c7131bc0",
        "colab": {
          "base_uri": "https://localhost:8080/",
          "height": 35
        }
      },
      "cell_type": "code",
      "source": [
        "import csv\n",
        "with open(dep_path+'/clustering/glass.csv', 'r') as f:\n",
        "    yeast = list(csv.reader(f, delimiter=','))\n",
        "X = np.array(yeast)\n",
        "#labels\n",
        "Y = X[1:,-1]\n",
        "#features\n",
        "X = X[1:,:-1].astype(np.float32)\n",
        "num_classes = np.unique(np.array(yeast)[:,-1]).shape[0]\n",
        "print(num_classes)"
      ],
      "execution_count": 0,
      "outputs": [
        {
          "output_type": "stream",
          "text": [
            "7\n"
          ],
          "name": "stdout"
        }
      ]
    },
    {
      "metadata": {
        "id": "9ckZuL6ltB1y",
        "colab_type": "code",
        "outputId": "a5b1e7de-808d-4314-a7c5-1b1d508333e8",
        "colab": {
          "base_uri": "https://localhost:8080/",
          "height": 35
        }
      },
      "cell_type": "code",
      "source": [
        "X.shape"
      ],
      "execution_count": 0,
      "outputs": [
        {
          "output_type": "execute_result",
          "data": {
            "text/plain": [
              "(214, 9)"
            ]
          },
          "metadata": {
            "tags": []
          },
          "execution_count": 55
        }
      ]
    },
    {
      "metadata": {
        "id": "w3MvQyw9Rzti",
        "colab_type": "text"
      },
      "cell_type": "markdown",
      "source": [
        "#### MNIST "
      ]
    },
    {
      "metadata": {
        "id": "I1JoPPyhRztj",
        "colab_type": "code",
        "colab": {}
      },
      "cell_type": "code",
      "source": [
        "import csv\n",
        "import os\n",
        "import load_mnist\n",
        "_,Y,_,_ = load_mnist.load_mnist_dataset(dep_path+'/mnist')\n",
        "with open(dep_path+'/clustering/encode_stack100.csv', 'r') as f:\n",
        "    yeast = list(csv.reader(f, delimiter=','))\n",
        "X = np.array(yeast)\n",
        "X = X.astype(np.float32)`\n",
        "num_classes = 10\n",
        "print(num_classes)"
      ],
      "execution_count": 0,
      "outputs": []
    },
    {
      "metadata": {
        "id": "L-WWa4YdRztl",
        "colab_type": "text"
      },
      "cell_type": "markdown",
      "source": [
        "#### MNIST PCA"
      ]
    },
    {
      "metadata": {
        "id": "cxdBlvOSRztm",
        "colab_type": "code",
        "colab": {}
      },
      "cell_type": "code",
      "source": [
        "import load_mnist\n",
        "import os\n",
        "mnist = dict()\n",
        "mnist['train_x'],mnist['train_y'],mnist['test_x'],mnist['test_y'] = load_mnist.load_mnist_dataset(dep_path+'/mnist')\n",
        "X = mnist['train_x'].reshape(-1,28*28)\n",
        "from sklearn.decomposition import PCA\n",
        "pca = PCA(0.99, whiten=True)\n",
        "data = pca.fit_transform(X.astype(np.float32))\n",
        "X = data\n",
        "Y = mnist['train_y']\n",
        "num_classes = 10\n",
        "print(X.shape)"
      ],
      "execution_count": 0,
      "outputs": []
    },
    {
      "metadata": {
        "id": "N7dEWQpwRzto",
        "colab_type": "text"
      },
      "cell_type": "markdown",
      "source": [
        "#### Max iter range"
      ]
    },
    {
      "metadata": {
        "id": "3IWvO7tjRztp",
        "colab_type": "code",
        "colab": {}
      },
      "cell_type": "code",
      "source": [
        "kmax=max_k=15"
      ],
      "execution_count": 0,
      "outputs": []
    },
    {
      "metadata": {
        "id": "-UQCELNiRztv",
        "colab_type": "text"
      },
      "cell_type": "markdown",
      "source": [
        "### Preprocessing"
      ]
    },
    {
      "metadata": {
        "id": "T_mY4uMORztw",
        "colab_type": "code",
        "colab": {}
      },
      "cell_type": "code",
      "source": [
        "from sklearn import preprocessing\n",
        "min_max_scaler = preprocessing.MinMaxScaler()\n",
        "X = min_max_scaler.fit_transform(X)"
      ],
      "execution_count": 0,
      "outputs": []
    },
    {
      "metadata": {
        "id": "pDxx-gmvRzt1",
        "colab_type": "text"
      },
      "cell_type": "markdown",
      "source": [
        "### K-Means using Elbow "
      ]
    },
    {
      "metadata": {
        "id": "TtXqnIQnRzt2",
        "colab_type": "code",
        "colab": {}
      },
      "cell_type": "code",
      "source": [
        "def get_cluster_centers(l,x):\n",
        "    c = []\n",
        "    for i in np.unique(l):\n",
        "        index = np.argwhere(l==i).reshape(-1)\n",
        "        cls = np.take(x,index,axis=0)\n",
        "        #print(cls.shape)\n",
        "        c.append(cls.mean(axis=0).tolist())\n",
        "        #print(c[i])\n",
        "    return c\n",
        "\n",
        "def get_inertia(l,x):\n",
        "    sse = 0\n",
        "    c = np.array(get_cluster_centers(l,x))\n",
        "    c = c.reshape(c.shape[0],-1,c.shape[1])\n",
        "    for i in np.unique(l):\n",
        "        index = np.argwhere(l==i).reshape(-1)\n",
        "        cls = np.take(x,index,axis=0)\n",
        "        #print(cls.shape)\n",
        "        cls = ((cls-c)**2).sum(axis=2)\n",
        "        print(cls.shape)\n",
        "        cls = cls.min(axis=0).sum()\n",
        "        #print(cls)\n",
        "        sse+=cls\n",
        "    return sse"
      ],
      "execution_count": 0,
      "outputs": []
    },
    {
      "metadata": {
        "scrolled": true,
        "id": "HSvRQnLIRzt6",
        "colab_type": "code",
        "outputId": "202220fb-0737-46f5-f7e6-9ed8311edea5",
        "colab": {
          "base_uri": "https://localhost:8080/",
          "height": 104
        }
      },
      "cell_type": "code",
      "source": [
        "kmeans = KMeans(n_clusters=4, max_iter=1000, n_jobs = -1).fit(X)\n",
        "kmeans.inertia_,get_inertia(kmeans.labels_,X)"
      ],
      "execution_count": 0,
      "outputs": [
        {
          "output_type": "stream",
          "text": [
            "(4, 122)\n",
            "(4, 19)\n",
            "(4, 33)\n",
            "(4, 40)\n"
          ],
          "name": "stdout"
        },
        {
          "output_type": "execute_result",
          "data": {
            "text/plain": [
              "(23.71005632023198, 23.71005624187301)"
            ]
          },
          "metadata": {
            "tags": []
          },
          "execution_count": 59
        }
      ]
    },
    {
      "metadata": {
        "id": "3dF1W4ytFzxU",
        "colab_type": "text"
      },
      "cell_type": "markdown",
      "source": [
        ""
      ]
    },
    {
      "metadata": {
        "id": "D98lL4EiGRPC",
        "colab_type": "code",
        "colab": {}
      },
      "cell_type": "code",
      "source": [
        ""
      ],
      "execution_count": 0,
      "outputs": []
    },
    {
      "metadata": {
        "id": "J-7L77p1RzuA",
        "colab_type": "code",
        "outputId": "51b29189-347e-4ba4-e3f9-658b33c147b3",
        "colab": {
          "base_uri": "https://localhost:8080/",
          "height": 725
        }
      },
      "cell_type": "code",
      "source": [
        "sse = {}\n",
        "for k in range(1, kmax+1):\n",
        "    print(\"for cluster K  : {}\".format(k))\n",
        "    kmeans = KMeans(n_jobs = -1,n_clusters=k, max_iter=1000).fit(X)\n",
        "    labels = kmeans.labels_\n",
        "    #print(data[\"clusters\"])\n",
        "    sse[k] = kmeans.inertia_ # Inertia: Sum of distances of samples to their closest cluster center\n",
        "\n",
        "fl['sse'] = sse\n",
        "fl['sse_c'] =  get_inertia(Y,X)\n",
        "plt.figure()\n",
        "plt.plot(list(sse.keys()), list(sse.values()))\n",
        "plt.scatter( num_classes, fl['sse_c'],s=150, c='g')\n",
        "plt.xlabel(\"Number of cluster\")\n",
        "plt.ylabel(\"SSE\")\n",
        "plt.show()\n"
      ],
      "execution_count": 0,
      "outputs": [
        {
          "output_type": "stream",
          "text": [
            "for cluster K  : 1\n",
            "for cluster K  : 2\n",
            "for cluster K  : 3\n",
            "for cluster K  : 4\n",
            "for cluster K  : 5\n",
            "for cluster K  : 6\n",
            "for cluster K  : 7\n",
            "for cluster K  : 8\n",
            "for cluster K  : 9\n",
            "for cluster K  : 10\n",
            "for cluster K  : 11\n",
            "for cluster K  : 12\n",
            "for cluster K  : 13\n",
            "for cluster K  : 14\n",
            "for cluster K  : 15\n",
            "(6, 70)\n",
            "(6, 76)\n",
            "(6, 17)\n",
            "(6, 13)\n",
            "(6, 9)\n",
            "(6, 29)\n"
          ],
          "name": "stdout"
        },
        {
          "output_type": "display_data",
          "data": {
            "image/png": "[encoded data removed]",
            "text/plain": [
              "<matplotlib.figure.Figure at 0x7f92864b3358>"
            ]
          },
          "metadata": {
            "tags": []
          }
        }
      ]
    },
    {
      "metadata": {
        "id": "sdAQcRCaIE-K",
        "colab_type": "code",
        "outputId": "cf0b18f6-1b3f-44c6-b476-1ec509bd4528",
        "colab": {
          "base_uri": "https://localhost:8080/",
          "height": 469
        }
      },
      "cell_type": "code",
      "source": [
        "\n",
        "plt.scatter(get_inertia(Y,X), num_classes, s=150, c='g')"
      ],
      "execution_count": 0,
      "outputs": [
        {
          "output_type": "stream",
          "text": [
            "(6, 70)\n",
            "(6, 76)\n",
            "(6, 17)\n",
            "(6, 13)\n",
            "(6, 9)\n",
            "(6, 29)\n"
          ],
          "name": "stdout"
        },
        {
          "output_type": "execute_result",
          "data": {
            "text/plain": [
              "<matplotlib.collections.PathCollection at 0x7f92863e3518>"
            ]
          },
          "metadata": {
            "tags": []
          },
          "execution_count": 61
        },
        {
          "output_type": "display_data",
          "data": {
            "image/png": "[encoded data removed]",
            "text/plain": [
              "<matplotlib.figure.Figure at 0x7f928664c860>"
            ]
          },
          "metadata": {
            "tags": []
          }
        }
      ]
    },
    {
      "metadata": {
        "id": "ZEvzRdScRzuD",
        "colab_type": "text"
      },
      "cell_type": "markdown",
      "source": [
        "### K means using Silhouette scores"
      ]
    },
    {
      "metadata": {
        "id": "cdNPW9tkRzuE",
        "colab_type": "code",
        "outputId": "576300bc-65ab-4334-cde3-24c9d11f8f84",
        "colab": {
          "base_uri": "https://localhost:8080/",
          "height": 604
        }
      },
      "cell_type": "code",
      "source": [
        "\n",
        "silhouette_coeff = {}\n",
        "\n",
        "for n_cluster in range(2, kmax+1):\n",
        "    kmeans = KMeans(n_jobs=-1,n_clusters=n_cluster).fit(X)\n",
        "    label = kmeans.labels_\n",
        "    sil_coeff = silhouette_score(X, label, metric='euclidean')\n",
        "    silhouette_coeff[n_cluster] = sil_coeff\n",
        "    print(\"For cluster : {}, The Silhouette Coefficient is {:.3}\".format(n_cluster, sil_coeff))\n",
        "\n",
        "fl['silh'] = silhouette_coeff\n",
        "fl['silh_c'] = silhouette_score(X, Y, metric='euclidean')\n",
        "plt.figure()\n",
        "plt.plot(list(silhouette_coeff.keys()), list(silhouette_coeff.values()))\n",
        "plt.scatter( num_classes, fl['silh_c'],s=150, c='g')\n",
        "plt.xlabel(\"Number of cluster\")\n",
        "plt.ylabel(\"Silhouette Coefficient\")\n",
        "plt.show()\n",
        "\n"
      ],
      "execution_count": 0,
      "outputs": [
        {
          "output_type": "stream",
          "text": [
            "For cluster : 2, The Silhouette Coefficient is 0.524\n",
            "For cluster : 3, The Silhouette Coefficient is 0.526\n",
            "For cluster : 4, The Silhouette Coefficient is 0.361\n",
            "For cluster : 5, The Silhouette Coefficient is 0.372\n",
            "For cluster : 6, The Silhouette Coefficient is 0.382\n",
            "For cluster : 7, The Silhouette Coefficient is 0.384\n",
            "For cluster : 8, The Silhouette Coefficient is 0.368\n",
            "For cluster : 9, The Silhouette Coefficient is 0.39\n",
            "For cluster : 10, The Silhouette Coefficient is 0.391\n",
            "For cluster : 11, The Silhouette Coefficient is 0.399\n",
            "For cluster : 12, The Silhouette Coefficient is 0.349\n",
            "For cluster : 13, The Silhouette Coefficient is 0.244\n",
            "For cluster : 14, The Silhouette Coefficient is 0.325\n",
            "For cluster : 15, The Silhouette Coefficient is 0.271\n"
          ],
          "name": "stdout"
        },
        {
          "output_type": "display_data",
          "data": {
            "image/png": "[encoded data removed]",
            "text/plain": [
              "<matplotlib.figure.Figure at 0x7f9286385240>"
            ]
          },
          "metadata": {
            "tags": []
          }
        }
      ]
    },
    {
      "metadata": {
        "id": "eo1lSECDRzuG",
        "colab_type": "text"
      },
      "cell_type": "markdown",
      "source": [
        "### K mean GAP statistics "
      ]
    },
    {
      "metadata": {
        "id": "sZCGkKOIRzuH",
        "colab_type": "text"
      },
      "cell_type": "markdown",
      "source": [
        "#### Plot the N-cluster against GAP values"
      ]
    },
    {
      "metadata": {
        "id": "JvyZ_Hs_RzuI",
        "colab_type": "code",
        "colab": {}
      },
      "cell_type": "code",
      "source": [
        "\n",
        "def get_rand_data(col):\n",
        "\n",
        "    rng = col.max() - col.min()\n",
        "\n",
        "    return pd.Series(random_sample(len(col))*rng + col.min())\n",
        "\n",
        "\n",
        "\n",
        "def iter_kmeans(df, n_clusters, num_iters=5):\n",
        "\n",
        "    rng =  range(1, num_iters + 1)\n",
        "    vals = pd.Series(index=rng)\n",
        "    for i in rng:\n",
        "        k = KMeans(n_jobs=-1,n_clusters=n_clusters, n_init=3)\n",
        "        k.fit(df)\n",
        "        #print (\"Ref k: {}\".format(k.get_params()['n_clusters']))\n",
        "        vals[i] = k.inertia_\n",
        "    return vals\n",
        "\n",
        "\n",
        "\n",
        "def gap_statistic(df, max_k=10):\n",
        "    gaps = pd.Series(index = range(1, max_k + 1))\n",
        "    for k in range(1, max_k + 1):\n",
        "        km_act = KMeans(n_jobs=-1,n_clusters=k, n_init=3)\n",
        "        km_act.fit(df)\n",
        "        # get ref dataset\n",
        "        ref = df.apply(get_rand_data)\n",
        "        ref_inertia = iter_kmeans(ref, n_clusters=k).mean()\n",
        "        gap = log(ref_inertia - km_act.inertia_)\n",
        "        print(\"Ref: {} Act: {}  Gap: {}\".format( ref_inertia, km_act.inertia_, gap))\n",
        "        gaps[k] = gap\n",
        "    return gaps"
      ],
      "execution_count": 0,
      "outputs": []
    },
    {
      "metadata": {
        "id": "HUR0uTMeRzuK",
        "colab_type": "code",
        "outputId": "96b06193-4d21-4163-8b7c-82e787d63443",
        "colab": {
          "base_uri": "https://localhost:8080/",
          "height": 277
        }
      },
      "cell_type": "code",
      "source": [
        "# famous iris data set\n",
        "df = pd.DataFrame(X)\n",
        "gaps = gap_statistic(df,kmax)"
      ],
      "execution_count": 0,
      "outputs": [
        {
          "output_type": "stream",
          "text": [
            "Ref: 163.31458464649535 Act: 57.364233852875884  Gap: 4.6629705956443575\n",
            "Ref: 146.4036089667155 Act: 34.13199299586968  Gap: 4.720921077979337\n",
            "Ref: 130.77856932297792 Act: 28.585246725652357  Gap: 4.6268663390139935\n",
            "Ref: 126.29654401265188 Act: 24.15035926300978  Gap: 4.626404971076568\n",
            "Ref: 118.01798038145321 Act: 21.757603208384094  Gap: 4.567056782141431\n",
            "Ref: 110.44744802188072 Act: 18.399580694769856  Gap: 4.522308738775283\n",
            "Ref: 108.9965340047549 Act: 16.663218927943042  Gap: 4.52540501979515\n",
            "Ref: 99.0468022114903 Act: 15.547603608676086  Gap: 4.4248370342396655\n",
            "Ref: 97.57912501492545 Act: 13.70575032620227  Gap: 4.4293082173243405\n",
            "Ref: 92.26678864454834 Act: 12.876561531750594  Gap: 4.374375276455915\n",
            "Ref: 94.2384631809739 Act: 12.235370814421506  Gap: 4.406756958340406\n",
            "Ref: 92.34797426989721 Act: 10.919695166252096  Gap: 4.399722621811603\n",
            "Ref: 87.65986223920076 Act: 10.163785552172028  Gap: 4.3502273116847165\n",
            "Ref: 86.55875006012226 Act: 9.49063444227384  Gap: 4.344689649223031\n",
            "Ref: 81.3251747103549 Act: 9.134900819891229  Gap: 4.279305326166087\n"
          ],
          "name": "stdout"
        }
      ]
    },
    {
      "metadata": {
        "id": "-iH7GNylRzuP",
        "colab_type": "code",
        "outputId": "50876f25-521a-4ef2-d21e-a5f0ed83dddc",
        "colab": {
          "base_uri": "https://localhost:8080/",
          "height": 156
        }
      },
      "cell_type": "code",
      "source": [
        "gap = np.array(gaps)\n",
        "fl['gap'] = gap\n",
        "fl['gap_c'] = log( iter_kmeans(df.apply(get_rand_data), n_clusters=num_classes).mean() - get_inertia(Y,X))\n",
        "print(fl['gap_c'])\n",
        "gap.argmax()+1"
      ],
      "execution_count": 0,
      "outputs": [
        {
          "output_type": "stream",
          "text": [
            "(6, 70)\n",
            "(6, 76)\n",
            "(6, 17)\n",
            "(6, 13)\n",
            "(6, 9)\n",
            "(6, 29)\n",
            "4.374436300442958\n"
          ],
          "name": "stdout"
        },
        {
          "output_type": "execute_result",
          "data": {
            "text/plain": [
              "2"
            ]
          },
          "metadata": {
            "tags": []
          },
          "execution_count": 65
        }
      ]
    },
    {
      "metadata": {
        "id": "UiJyB7ZRRzuT",
        "colab_type": "code",
        "outputId": "1f48b9dc-4197-4358-a4c2-183c51fd14ce",
        "colab": {
          "base_uri": "https://localhost:8080/",
          "height": 377
        }
      },
      "cell_type": "code",
      "source": [
        "plt.plot(range(1,kmax+1),gap, linewidth=3)\n",
        "plt.scatter(gap.argmax()+1, gap.max(), s=250, c='r')\n",
        "plt.scatter( num_classes, fl['gap_c'],s=150, c='g')\n",
        "plt.grid(True)\n",
        "plt.xlabel('Cluster Count')\n",
        "plt.ylabel('Gap Value')\n",
        "plt.title('Gap Values by Cluster Count')\n",
        "plt.show()"
      ],
      "execution_count": 0,
      "outputs": [
        {
          "output_type": "display_data",
          "data": {
            "image/png": "[encoded data removed]",
            "text/plain": [
              "<matplotlib.figure.Figure at 0x7f9286396208>"
            ]
          },
          "metadata": {
            "tags": []
          }
        }
      ]
    },
    {
      "metadata": {
        "id": "khnN4MwaRzuW",
        "colab_type": "text"
      },
      "cell_type": "markdown",
      "source": [
        "### 4.  Calinski-Harabaz Index "
      ]
    },
    {
      "metadata": {
        "id": "2sKsUGbARzuX",
        "colab_type": "code",
        "colab": {}
      },
      "cell_type": "code",
      "source": [
        "CHI = pd.Series(index = range(2, max_k + 1))\n",
        "for k in range(2, max_k+1):\n",
        "    kmeans = KMeans(n_jobs=-1,n_clusters=k, max_iter=1000).fit(X)\n",
        "    labels = kmeans.labels_\n",
        "    #print(data[\"clusters\"])\n",
        "    CHI[k] = metrics.calinski_harabaz_score(X, labels) "
      ],
      "execution_count": 0,
      "outputs": []
    },
    {
      "metadata": {
        "id": "Tdxe1OFHRzuZ",
        "colab_type": "code",
        "outputId": "d04403ac-88f0-42c4-f7c7-5906c7587278",
        "colab": {
          "base_uri": "https://localhost:8080/",
          "height": 377
        }
      },
      "cell_type": "code",
      "source": [
        "fl['chi'] = CHI\n",
        "fl['chi_c'] = metrics.calinski_harabaz_score(X, Y) \n",
        "plt.plot(CHI, linewidth=3)\n",
        "plt.scatter(CHI.values.argmax()+2, CHI.max(), s=250, c='r')\n",
        "plt.scatter( num_classes, fl['chi_c'],s=150, c='g')\n",
        "plt.grid(True)\n",
        "plt.xlabel('Cluster Count')\n",
        "plt.ylabel('calinski harabaz score')\n",
        "plt.title('calinski harabaz score by Cluster Count')\n",
        "plt.show()"
      ],
      "execution_count": 0,
      "outputs": [
        {
          "output_type": "display_data",
          "data": {
            "image/png": "[encoded data removed]",
            "text/plain": [
              "<matplotlib.figure.Figure at 0x7f928633bef0>"
            ]
          },
          "metadata": {
            "tags": []
          }
        }
      ]
    },
    {
      "metadata": {
        "id": "LyXJerTTLvu5",
        "colab_type": "code",
        "outputId": "6ffd7118-7ca5-4061-f0a8-51562063f10a",
        "colab": {
          "base_uri": "https://localhost:8080/",
          "height": 35
        }
      },
      "cell_type": "code",
      "source": [
        "name = os.getcwd()+\"/drive/My Drive/outputs/\"+\"Kmeans_gl.npy\"\n",
        "np.save(name,fl)\n",
        "#saving file from colab\n",
        "\"\"\"from google.colab import files\n",
        "files.download(name)\"\"\"\n"
      ],
      "execution_count": 0,
      "outputs": [
        {
          "output_type": "execute_result",
          "data": {
            "text/plain": [
              "'from google.colab import files\\nfiles.download(name)'"
            ]
          },
          "metadata": {
            "tags": []
          },
          "execution_count": 69
        }
      ]
    },
    {
      "metadata": {
        "id": "fW9qQjBgoACm",
        "colab_type": "code",
        "outputId": "6691e202-b006-4fc2-8819-6d664337e559",
        "colab": {
          "base_uri": "https://localhost:8080/",
          "height": 35
        }
      },
      "cell_type": "code",
      "source": [
        "fl.keys()"
      ],
      "execution_count": 0,
      "outputs": [
        {
          "output_type": "execute_result",
          "data": {
            "text/plain": [
              "dict_keys(['sse', 'sse_c', 'silh', 'silh_c', 'gap', 'gap_c', 'chi', 'chi_c'])"
            ]
          },
          "metadata": {
            "tags": []
          },
          "execution_count": 70
        }
      ]
    },
    {
      "metadata": {
        "id": "xszn5BEjoTJN",
        "colab_type": "code",
        "outputId": "4b9757e6-5bba-44b0-bcfd-c8a7c34dd379",
        "colab": {
          "base_uri": "https://localhost:8080/",
          "height": 35
        }
      },
      "cell_type": "code",
      "source": [
        ""
      ],
      "execution_count": 0,
      "outputs": [
        {
          "output_type": "execute_result",
          "data": {
            "text/plain": [
              "['.config', 'drive', 'sample_data']"
            ]
          },
          "metadata": {
            "tags": []
          },
          "execution_count": 71
        }
      ]
    }
  ]
}